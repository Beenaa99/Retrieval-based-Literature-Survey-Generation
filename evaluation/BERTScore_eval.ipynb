{
  "nbformat": 4,
  "nbformat_minor": 0,
  "metadata": {
    "colab": {
      "provenance": []
    },
    "kernelspec": {
      "name": "python3",
      "display_name": "Python 3"
    },
    "language_info": {
      "name": "python"
    }
  },
  "cells": [
    {
      "cell_type": "code",
      "source": [
        "\n",
        "!pip install pandas transformers bert-score scikit-learn torch\n",
        "\n",
        "import pandas as pd\n",
        "from bert_score import score\n",
        "from sklearn.metrics.pairwise import cosine_similarity\n",
        "from transformers import AutoTokenizer, AutoModel\n",
        "import torch"
      ],
      "metadata": {
        "id": "SNrSd5K1KWac",
        "colab": {
          "base_uri": "https://localhost:8080/"
        },
        "outputId": "62361751-2256-4519-9095-ca02d6eaf284"
      },
      "execution_count": null,
      "outputs": [
        {
          "output_type": "stream",
          "name": "stdout",
          "text": [
            "Requirement already satisfied: pandas in /usr/local/lib/python3.10/dist-packages (2.2.2)\n",
            "Requirement already satisfied: transformers in /usr/local/lib/python3.10/dist-packages (4.46.3)\n",
            "Collecting bert-score\n",
            "  Downloading bert_score-0.3.13-py3-none-any.whl.metadata (15 kB)\n",
            "Requirement already satisfied: scikit-learn in /usr/local/lib/python3.10/dist-packages (1.5.2)\n",
            "Requirement already satisfied: torch in /usr/local/lib/python3.10/dist-packages (2.5.1+cu121)\n",
            "Requirement already satisfied: numpy>=1.22.4 in /usr/local/lib/python3.10/dist-packages (from pandas) (1.26.4)\n",
            "Requirement already satisfied: python-dateutil>=2.8.2 in /usr/local/lib/python3.10/dist-packages (from pandas) (2.8.2)\n",
            "Requirement already satisfied: pytz>=2020.1 in /usr/local/lib/python3.10/dist-packages (from pandas) (2024.2)\n",
            "Requirement already satisfied: tzdata>=2022.7 in /usr/local/lib/python3.10/dist-packages (from pandas) (2024.2)\n",
            "Requirement already satisfied: filelock in /usr/local/lib/python3.10/dist-packages (from transformers) (3.16.1)\n",
            "Requirement already satisfied: huggingface-hub<1.0,>=0.23.2 in /usr/local/lib/python3.10/dist-packages (from transformers) (0.26.5)\n",
            "Requirement already satisfied: packaging>=20.0 in /usr/local/lib/python3.10/dist-packages (from transformers) (24.2)\n",
            "Requirement already satisfied: pyyaml>=5.1 in /usr/local/lib/python3.10/dist-packages (from transformers) (6.0.2)\n",
            "Requirement already satisfied: regex!=2019.12.17 in /usr/local/lib/python3.10/dist-packages (from transformers) (2024.9.11)\n",
            "Requirement already satisfied: requests in /usr/local/lib/python3.10/dist-packages (from transformers) (2.32.3)\n",
            "Requirement already satisfied: tokenizers<0.21,>=0.20 in /usr/local/lib/python3.10/dist-packages (from transformers) (0.20.3)\n",
            "Requirement already satisfied: safetensors>=0.4.1 in /usr/local/lib/python3.10/dist-packages (from transformers) (0.4.5)\n",
            "Requirement already satisfied: tqdm>=4.27 in /usr/local/lib/python3.10/dist-packages (from transformers) (4.66.6)\n",
            "Requirement already satisfied: matplotlib in /usr/local/lib/python3.10/dist-packages (from bert-score) (3.8.0)\n",
            "Requirement already satisfied: scipy>=1.6.0 in /usr/local/lib/python3.10/dist-packages (from scikit-learn) (1.13.1)\n",
            "Requirement already satisfied: joblib>=1.2.0 in /usr/local/lib/python3.10/dist-packages (from scikit-learn) (1.4.2)\n",
            "Requirement already satisfied: threadpoolctl>=3.1.0 in /usr/local/lib/python3.10/dist-packages (from scikit-learn) (3.5.0)\n",
            "Requirement already satisfied: typing-extensions>=4.8.0 in /usr/local/lib/python3.10/dist-packages (from torch) (4.12.2)\n",
            "Requirement already satisfied: networkx in /usr/local/lib/python3.10/dist-packages (from torch) (3.4.2)\n",
            "Requirement already satisfied: jinja2 in /usr/local/lib/python3.10/dist-packages (from torch) (3.1.4)\n",
            "Requirement already satisfied: fsspec in /usr/local/lib/python3.10/dist-packages (from torch) (2024.10.0)\n",
            "Requirement already satisfied: sympy==1.13.1 in /usr/local/lib/python3.10/dist-packages (from torch) (1.13.1)\n",
            "Requirement already satisfied: mpmath<1.4,>=1.1.0 in /usr/local/lib/python3.10/dist-packages (from sympy==1.13.1->torch) (1.3.0)\n",
            "Requirement already satisfied: six>=1.5 in /usr/local/lib/python3.10/dist-packages (from python-dateutil>=2.8.2->pandas) (1.17.0)\n",
            "Requirement already satisfied: MarkupSafe>=2.0 in /usr/local/lib/python3.10/dist-packages (from jinja2->torch) (3.0.2)\n",
            "Requirement already satisfied: contourpy>=1.0.1 in /usr/local/lib/python3.10/dist-packages (from matplotlib->bert-score) (1.3.1)\n",
            "Requirement already satisfied: cycler>=0.10 in /usr/local/lib/python3.10/dist-packages (from matplotlib->bert-score) (0.12.1)\n",
            "Requirement already satisfied: fonttools>=4.22.0 in /usr/local/lib/python3.10/dist-packages (from matplotlib->bert-score) (4.55.2)\n",
            "Requirement already satisfied: kiwisolver>=1.0.1 in /usr/local/lib/python3.10/dist-packages (from matplotlib->bert-score) (1.4.7)\n",
            "Requirement already satisfied: pillow>=6.2.0 in /usr/local/lib/python3.10/dist-packages (from matplotlib->bert-score) (11.0.0)\n",
            "Requirement already satisfied: pyparsing>=2.3.1 in /usr/local/lib/python3.10/dist-packages (from matplotlib->bert-score) (3.2.0)\n",
            "Requirement already satisfied: charset-normalizer<4,>=2 in /usr/local/lib/python3.10/dist-packages (from requests->transformers) (3.4.0)\n",
            "Requirement already satisfied: idna<4,>=2.5 in /usr/local/lib/python3.10/dist-packages (from requests->transformers) (3.10)\n",
            "Requirement already satisfied: urllib3<3,>=1.21.1 in /usr/local/lib/python3.10/dist-packages (from requests->transformers) (2.2.3)\n",
            "Requirement already satisfied: certifi>=2017.4.17 in /usr/local/lib/python3.10/dist-packages (from requests->transformers) (2024.8.30)\n",
            "Downloading bert_score-0.3.13-py3-none-any.whl (61 kB)\n",
            "\u001b[2K   \u001b[90m━━━━━━━━━━━━━━━━━━━━━━━━━━━━━━━━━━━━━━━━\u001b[0m \u001b[32m61.1/61.1 kB\u001b[0m \u001b[31m1.7 MB/s\u001b[0m eta \u001b[36m0:00:00\u001b[0m\n",
            "\u001b[?25hInstalling collected packages: bert-score\n",
            "Successfully installed bert-score-0.3.13\n"
          ]
        }
      ]
    },
    {
      "cell_type": "code",
      "source": [
        "import os\n",
        "from google.colab import drive\n",
        "drive.mount('/gdrive')\n",
        "os.chdir('/gdrive/My Drive/nlp_project/')"
      ],
      "metadata": {
        "id": "VVZgLv0CaYrJ",
        "colab": {
          "base_uri": "https://localhost:8080/"
        },
        "outputId": "8cc5a3e7-f1fa-49e9-efff-fc62bddcbe1e"
      },
      "execution_count": null,
      "outputs": [
        {
          "output_type": "stream",
          "name": "stdout",
          "text": [
            "Mounted at /gdrive\n"
          ]
        }
      ]
    },
    {
      "cell_type": "code",
      "source": [
        "!ls"
      ],
      "metadata": {
        "id": "BYf4O_vGainF",
        "colab": {
          "base_uri": "https://localhost:8080/"
        },
        "outputId": "f28edc79-6283-4078-c693-aa45579a95ba"
      },
      "execution_count": null,
      "outputs": [
        {
          "output_type": "stream",
          "name": "stdout",
          "text": [
            "cv_nlp_ml_2023-2024_cleaned_142k.csv\t   processed_data\n",
            "embeddings.npy\t\t\t\t   prompts\n",
            "evaluation\t\t\t\t   rag_results_30.csv\n",
            "evaluation_results_old30_top_10.csv\t   rag_results_30.gsheet\n",
            "evaluation_results_old_8b_30.csv\t   rag_results_current_50.csv\n",
            "evaluation_results_spectre2_50_top_10.csv  rag_results_current_50.gsheet\n",
            "evaluation_results_vague_50.csv\t\t   rag_results_current_without_rf_50.csv\n",
            "evaluation_results_vague_50.gsheet\t   rag_results_current_without_rf_50.gsheet\n",
            "evaluation_results_vague_50_top_5.csv\t   rag_results_current_without_rf_50_top_20.csv\n",
            "evaluation_spectre2_old30_top_10.csv\t   rag_results_current_without_rf_50_top_5.csv\n",
            "evaluation_spectre2_vague_top_20.csv\t   rag_results_detailed_30.csv\n",
            "faiss_index.bin\t\t\t\t   rag_results_with_abstracts_30.csv\n",
            "graphrag_eval_data.csv\t\t\t   rag_results_with_abstracts_30.gsheet\n",
            "graphrag_eval_data.gsheet\t\t   research_prompts_15.csv\n",
            "lit_review.log\t\t\t\t   specter2_embeddings.npy\n",
            "paper_ids_and_titles_RAG.csv\t\t   specter2_faiss_index.bin\n"
          ]
        }
      ]
    },
    {
      "cell_type": "code",
      "source": [
        "# Function to evaluate metrics\n",
        "def evaluate_metrics(input_query, generated_review, model_name=\"distilbert-base-uncased\"):\n",
        "\n",
        "    # BERTScore Evaluation\n",
        "    P, R, F1 = score([generated_review], [input_query], lang=\"en\", model_type=model_name)\n",
        "    bert_scores = {\n",
        "        \"BERTScore_Precision\": P.mean().item(),\n",
        "        \"BERTScore_Recall\": R.mean().item(),\n",
        "        \"BERTScore_F1\": F1.mean().item()\n",
        "    }\n",
        "\n",
        "    # Cosine Similarity Evaluation\n",
        "    tokenizer = AutoTokenizer.from_pretrained(model_name)\n",
        "    model = AutoModel.from_pretrained(model_name)\n",
        "\n",
        "    # Tokenize and encode the query and review\n",
        "    inputs_query = tokenizer(input_query, return_tensors=\"pt\", truncation=True, padding=True)\n",
        "    inputs_review = tokenizer(generated_review, return_tensors=\"pt\", truncation=True, padding=True)\n",
        "\n",
        "    # Extract embeddings\n",
        "    with torch.no_grad():\n",
        "        query_embedding = model(**inputs_query).last_hidden_state.mean(dim=1)\n",
        "        review_embedding = model(**inputs_review).last_hidden_state.mean(dim=1)\n",
        "\n",
        "    # Compute cosine similarity\n",
        "    cosine_sim = cosine_similarity(query_embedding.numpy(), review_embedding.numpy())[0][0]\n",
        "\n",
        "    return {\n",
        "        **bert_scores,\n",
        "        \"Cosine_Similarity\": cosine_sim\n",
        "    }\n",
        "\n"
      ],
      "metadata": {
        "id": "MexI9bYSKC5p"
      },
      "execution_count": null,
      "outputs": []
    },
    {
      "cell_type": "code",
      "source": [
        "# Function to process CSV and calculate metrics\n",
        "def process_csv(file_path, output_path, model_name=\"distilbert-base-uncased\"):\n",
        "\n",
        "    # Load CSV\n",
        "    data = pd.read_csv(file_path)\n",
        "\n",
        "    # Compute metrics for each row\n",
        "    metrics_list = []\n",
        "    for index, row in data.iterrows():\n",
        "        input_query = row['query']\n",
        "        generated_review = row['literature_review']\n",
        "        metrics = evaluate_metrics(input_query, generated_review, model_name)\n",
        "        metrics_list.append(metrics)\n",
        "\n",
        "    # Add metrics to the DataFrame\n",
        "    metrics_df = pd.DataFrame(metrics_list)\n",
        "    result_df = pd.concat([data, metrics_df], axis=1)\n",
        "\n",
        "    # Save the results to a new CSV\n",
        "    result_df.to_csv(output_path, index=False)\n",
        "    print(f\"Results saved to {output_path}\")\n",
        "\n"
      ],
      "metadata": {
        "id": "2JW61n6MLLrO"
      },
      "execution_count": null,
      "outputs": []
    },
    {
      "cell_type": "code",
      "source": [
        "\n",
        "input_csv = \"evaluation/rag_results_15_3b.csv\"\n",
        "output_csv = \"evaluation_results_15_3b.csv\""
      ],
      "metadata": {
        "id": "ZRmjU1NK535u"
      },
      "execution_count": null,
      "outputs": []
    },
    {
      "cell_type": "code",
      "source": [
        "process_csv(file_path=input_csv, output_path=output_csv, model_name=\"distilbert-base-uncased\")"
      ],
      "metadata": {
        "id": "HUO8dkIz56LA",
        "colab": {
          "base_uri": "https://localhost:8080/"
        },
        "outputId": "32ac024c-49ba-40e6-9043-d9f2cf205dd1"
      },
      "execution_count": null,
      "outputs": [
        {
          "output_type": "stream",
          "name": "stdout",
          "text": [
            "Results saved to evaluation_results_15_3b.csv\n"
          ]
        }
      ]
    },
    {
      "cell_type": "code",
      "source": [
        "results_path = \"evaluation_results_15_3b.csv\"\n",
        "results = pd.read_csv(results_path)"
      ],
      "metadata": {
        "id": "RKZt_FcnOPS2"
      },
      "execution_count": null,
      "outputs": []
    },
    {
      "cell_type": "code",
      "source": [
        "required_columns = ['BERTScore_Precision', 'BERTScore_Recall', 'BERTScore_F1', 'Cosine_Similarity']"
      ],
      "metadata": {
        "id": "XnLMW6IpOyhQ"
      },
      "execution_count": null,
      "outputs": []
    },
    {
      "cell_type": "code",
      "source": [
        "metrics = results[required_columns].mean()"
      ],
      "metadata": {
        "id": "9HnqpcmnO0Y_"
      },
      "execution_count": null,
      "outputs": []
    },
    {
      "cell_type": "code",
      "source": [
        "metrics"
      ],
      "metadata": {
        "colab": {
          "base_uri": "https://localhost:8080/",
          "height": 210
        },
        "id": "jAiEAh9-O3So",
        "outputId": "ae27a138-6edc-4847-9bbf-b861ee3d7ec2"
      },
      "execution_count": null,
      "outputs": [
        {
          "output_type": "execute_result",
          "data": {
            "text/plain": [
              "BERTScore_Precision    0.655811\n",
              "BERTScore_Recall       0.789952\n",
              "BERTScore_F1           0.716510\n",
              "Cosine_Similarity      0.832633\n",
              "dtype: float64"
            ],
            "text/html": [
              "<div>\n",
              "<style scoped>\n",
              "    .dataframe tbody tr th:only-of-type {\n",
              "        vertical-align: middle;\n",
              "    }\n",
              "\n",
              "    .dataframe tbody tr th {\n",
              "        vertical-align: top;\n",
              "    }\n",
              "\n",
              "    .dataframe thead th {\n",
              "        text-align: right;\n",
              "    }\n",
              "</style>\n",
              "<table border=\"1\" class=\"dataframe\">\n",
              "  <thead>\n",
              "    <tr style=\"text-align: right;\">\n",
              "      <th></th>\n",
              "      <th>0</th>\n",
              "    </tr>\n",
              "  </thead>\n",
              "  <tbody>\n",
              "    <tr>\n",
              "      <th>BERTScore_Precision</th>\n",
              "      <td>0.655811</td>\n",
              "    </tr>\n",
              "    <tr>\n",
              "      <th>BERTScore_Recall</th>\n",
              "      <td>0.789952</td>\n",
              "    </tr>\n",
              "    <tr>\n",
              "      <th>BERTScore_F1</th>\n",
              "      <td>0.716510</td>\n",
              "    </tr>\n",
              "    <tr>\n",
              "      <th>Cosine_Similarity</th>\n",
              "      <td>0.832633</td>\n",
              "    </tr>\n",
              "  </tbody>\n",
              "</table>\n",
              "</div><br><label><b>dtype:</b> float64</label>"
            ]
          },
          "metadata": {},
          "execution_count": 19
        }
      ]
    },
    {
      "cell_type": "code",
      "source": [],
      "metadata": {
        "id": "ZmGMOlZ4Z_v4"
      },
      "execution_count": null,
      "outputs": []
    }
  ]
}